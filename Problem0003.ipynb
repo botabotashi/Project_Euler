{
 "cells": [
  {
   "cell_type": "markdown",
   "metadata": {},
   "source": [
    "## 方針"
   ]
  },
  {
   "cell_type": "markdown",
   "metadata": {},
   "source": [
    "➀割られる数（初期値は600851475143）が割り切れる数を見つける．  \n",
    "➁見つけた数をリストにappendする．  \n",
    "➂割られる数を更新する．  \n",
    "➃➀～③を「割られる数<割る数」になるまで繰り返す．"
   ]
  },
  {
   "cell_type": "markdown",
   "metadata": {},
   "source": [
    "## インポート"
   ]
  },
  {
   "cell_type": "code",
   "execution_count": 1,
   "metadata": {},
   "outputs": [],
   "source": [
    "import numpy as np"
   ]
  },
  {
   "cell_type": "markdown",
   "metadata": {},
   "source": [
    "## 素因数分解した結果，最大数値を抽出する"
   ]
  },
  {
   "cell_type": "code",
   "execution_count": 2,
   "metadata": {},
   "outputs": [],
   "source": [
    "def clc_max_prime_factors(input_val):\n",
    "# input_val...数値．素因数分解したい数\n",
    "# prime_factors...リスト値．input_valを2から割った数のうち，割りきれた時の数を格納する\n",
    "# max_prime...数値．prime_factorsのうち最大の数を出力\n",
    "    prime_factors = []\n",
    "    divisor=2\n",
    "    while divisor <= input_val:\n",
    "        if input_val % divisor == 0:\n",
    "            prime_factors.append(divisor)\n",
    "            input_val = input_val / divisor\n",
    "        else:\n",
    "            divisor = divisor + 1\n",
    "\n",
    "    max_prime = np.max(prime_factors)\n",
    "    return max_prime "
   ]
  },
  {
   "cell_type": "markdown",
   "metadata": {},
   "source": [
    "## 答え"
   ]
  },
  {
   "cell_type": "code",
   "execution_count": 3,
   "metadata": {},
   "outputs": [
    {
     "name": "stdout",
     "output_type": "stream",
     "text": [
      "6857\n"
     ]
    }
   ],
   "source": [
    "input_val = 600851475143\n",
    "ans = clc_max_prime_factors(input_val)\n",
    "print(ans)"
   ]
  },
  {
   "cell_type": "code",
   "execution_count": null,
   "metadata": {},
   "outputs": [],
   "source": []
  }
 ],
 "metadata": {
  "kernelspec": {
   "display_name": "Python 3",
   "language": "python",
   "name": "python3"
  },
  "language_info": {
   "codemirror_mode": {
    "name": "ipython",
    "version": 3
   },
   "file_extension": ".py",
   "mimetype": "text/x-python",
   "name": "python",
   "nbconvert_exporter": "python",
   "pygments_lexer": "ipython3",
   "version": "3.6.8"
  }
 },
 "nbformat": 4,
 "nbformat_minor": 2
}

{
 "cells": [
  {
   "cell_type": "markdown",
   "metadata": {},
   "source": [
    "## 方針"
   ]
  },
  {
   "cell_type": "markdown",
   "metadata": {},
   "source": [
    "2000000未満の素数を抽出する  \n",
    "抽出した素数を合計する  \n",
    "\n",
    "注意：単純に2000000未満の素数を3から奇数の中で探索したが，計算時間がかなりかかった．  \n",
    "※抽出する際のロジック  （計算速度をはやくするため）  \n",
    "➀合計数を表すsum_valの初期値を2とする  \n",
    "➁以降は奇数だけを対象に，素数か否かを検討する  \n",
    "➂素数を見つけたら，その素数の倍数は素数でないため，候補から外す"
   ]
  },
  {
   "cell_type": "markdown",
   "metadata": {},
   "source": [
    "## インポート"
   ]
  },
  {
   "cell_type": "code",
   "execution_count": 1,
   "metadata": {},
   "outputs": [],
   "source": [
    "import numpy as np"
   ]
  },
  {
   "cell_type": "markdown",
   "metadata": {},
   "source": [
    "## 初期値"
   ]
  },
  {
   "cell_type": "code",
   "execution_count": 2,
   "metadata": {},
   "outputs": [
    {
     "name": "stdout",
     "output_type": "stream",
     "text": [
      "[0 0 0 ... 0 0 0]\n"
     ]
    }
   ],
   "source": [
    "# 2000000のリストを作成し，該当する素数\n",
    "MAX = 2000000\n",
    "input_arr = np.array([0] * MAX)\n",
    "target = 3\n",
    "sum_val = 2\n",
    "print(input_arr)"
   ]
  },
  {
   "cell_type": "markdown",
   "metadata": {},
   "source": [
    "## 合計値算出"
   ]
  },
  {
   "cell_type": "code",
   "execution_count": 3,
   "metadata": {},
   "outputs": [],
   "source": [
    "while target < MAX:\n",
    "    if input_arr[target] == 0:\n",
    "        # 素数の倍数にあたる要素番号に1を立てる\n",
    "        not_prime = range(0, MAX, target)\n",
    "        input_arr[not_prime] = 1\n",
    "        \n",
    "        # 素数を足していくところ\n",
    "        sum_val += target\n",
    "        \n",
    "    # 素数か判定する数を更新する\n",
    "    target += 2\n",
    "    \n",
    "ans = sum_val"
   ]
  },
  {
   "cell_type": "markdown",
   "metadata": {},
   "source": [
    "## 答え"
   ]
  },
  {
   "cell_type": "code",
   "execution_count": 4,
   "metadata": {},
   "outputs": [
    {
     "name": "stdout",
     "output_type": "stream",
     "text": [
      "142913828922\n"
     ]
    }
   ],
   "source": [
    "print(ans)"
   ]
  },
  {
   "cell_type": "code",
   "execution_count": null,
   "metadata": {},
   "outputs": [],
   "source": []
  }
 ],
 "metadata": {
  "kernelspec": {
   "display_name": "Python 3",
   "language": "python",
   "name": "python3"
  },
  "language_info": {
   "codemirror_mode": {
    "name": "ipython",
    "version": 3
   },
   "file_extension": ".py",
   "mimetype": "text/x-python",
   "name": "python",
   "nbconvert_exporter": "python",
   "pygments_lexer": "ipython3",
   "version": "3.6.8"
  }
 },
 "nbformat": 4,
 "nbformat_minor": 2
}
